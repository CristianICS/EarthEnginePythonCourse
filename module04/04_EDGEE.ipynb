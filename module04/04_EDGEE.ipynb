{
  "nbformat": 4,
  "nbformat_minor": 0,
  "metadata": {
    "colab": {
      "name": "04_EDGEE.ipynb",
      "provenance": [],
      "collapsed_sections": [],
      "include_colab_link": true
    },
    "kernelspec": {
      "name": "python3",
      "display_name": "Python 3"
    }
  },
  "cells": [
    {
      "cell_type": "markdown",
      "metadata": {
        "id": "view-in-github",
        "colab_type": "text"
      },
      "source": [
        "<a href=\"https://colab.research.google.com/github/csaybar/EarthEngineMasterGIS/blob/master/module04/04_EDGEE.ipynb\" target=\"_parent\"><img src=\"https://colab.research.google.com/assets/colab-badge.svg\" alt=\"Open In Colab\"/></a>"
      ]
    },
    {
      "cell_type": "markdown",
      "metadata": {
        "id": "TKGezoZcFlbh",
        "colab_type": "text"
      },
      "source": [
        "<!--COURSE_INFORMATION-->\n",
        "<img align=\"left\" style=\"padding-right:10px;\" src=\"https://user-images.githubusercontent.com/16768318/73986808-75b3ca00-4936-11ea-90f1-3a6c352766ce.png\" width=10% >\n",
        "<img align=\"right\" style=\"padding-left:10px;\" src=\"https://user-images.githubusercontent.com/16768318/73986811-764c6080-4936-11ea-9653-a3eacc47caed.png\" width=10% >\n",
        "\n",
        "**Bienvenidos!** Este *colab notebook* es parte del curso [**Introduccion a Google Earth Engine con Python**](https://github.com/csaybar/EarthEngineMasterGIS) desarrollado por el equipo [**MasterGIS**](https://www.mastergis.com/). Obten mas informacion del curso en este [**enlace**](https://www.mastergis.com/product/google-earth-engine-python/). El contenido del curso esta disponible en [**GitHub**](https://github.com/csaybar/EarthEngineMasterGIS) bajo licencia [**MIT**](https://opensource.org/licenses/MIT)."
      ]
    },
    {
      "cell_type": "markdown",
      "metadata": {
        "id": "qar7CNxI9nca",
        "colab_type": "text"
      },
      "source": [
        "## **MASTERGIS: ED espaciales en Google Earth Engine III**\n",
        "## **ee.Geometry, ee.Feature y ee.FeatureCollection**\n",
        "\n",
        "En esta lectura, aprenderemos sobre:\n",
        "\n",
        "- ee.ImageCollection como ED nativa de GEE.\n",
        "- Filtar y mapear FeatureCollections.\n",
        "- Puntos aleatorios\n"
      ]
    },
    {
      "cell_type": "markdown",
      "metadata": {
        "id": "T-Y_YUABB3s-",
        "colab_type": "text"
      },
      "source": [
        "### **1) Autenticar y inicializar GEE**"
      ]
    },
    {
      "cell_type": "code",
      "metadata": {
        "id": "Mp08vKhM7tES",
        "colab_type": "code",
        "cellView": "both",
        "colab": {}
      },
      "source": [
        "#@title Credenciales Google Earth Engine\n",
        "import os \n",
        "credential = '{\"refresh_token\":\"PON_AQUI_TU_TOKEN\"}'\n",
        "credential_file_path = os.path.expanduser(\"~/.config/earthengine/\")\n",
        "os.makedirs(credential_file_path,exist_ok=True)\n",
        "with open(credential_file_path + 'credentials', 'w') as file:\n",
        "    file.write(credential)"
      ],
      "execution_count": 0,
      "outputs": []
    },
    {
      "cell_type": "code",
      "metadata": {
        "id": "q74mE-6DB-zp",
        "colab_type": "code",
        "colab": {}
      },
      "source": [
        "import ee\n",
        "ee.Initialize()"
      ],
      "execution_count": 0,
      "outputs": []
    },
    {
      "cell_type": "markdown",
      "metadata": {
        "id": "0kljSm5KCAYI",
        "colab_type": "text"
      },
      "source": [
        "### **2) Carga nuestra funcion de mapeo**"
      ]
    },
    {
      "cell_type": "code",
      "metadata": {
        "id": "ON3loW2dCDJa",
        "colab_type": "code",
        "cellView": "form",
        "colab": {}
      },
      "source": [
        "#@title mapdisplay: Crea mapas interactivos usando folium\n",
        "import folium\n",
        "def mapdisplay(center, dicc, Tiles=\"OpensTreetMap\",zoom_start=10):\n",
        "    '''\n",
        "    :param center: Center of the map (Latitude and Longitude).\n",
        "    :param dicc: Earth Engine Geometries or Tiles dictionary\n",
        "    :param Tiles: Mapbox Bright,Mapbox Control Room,Stamen Terrain,Stamen Toner,stamenwatercolor,cartodbpositron.\n",
        "    :zoom_start: Initial zoom level for the map.\n",
        "    :return: A folium.Map object.\n",
        "    '''\n",
        "    center = center[::-1]\n",
        "    mapViz = folium.Map(location=center,tiles=Tiles, zoom_start=zoom_start)\n",
        "    for k,v in dicc.items():\n",
        "      if ee.image.Image in [type(x) for x in v.values()]:\n",
        "        folium.TileLayer(\n",
        "            tiles = v[\"tile_fetcher\"].url_format,\n",
        "            attr  = 'Google Earth Engine',\n",
        "            overlay =True,\n",
        "            name  = k\n",
        "          ).add_to(mapViz)\n",
        "      else:\n",
        "        folium.GeoJson(\n",
        "        data = v,\n",
        "        name = k\n",
        "          ).add_to(mapViz)\n",
        "    mapViz.add_child(folium.LayerControl())\n",
        "    return mapViz"
      ],
      "execution_count": 0,
      "outputs": []
    },
    {
      "cell_type": "markdown",
      "metadata": {
        "id": "tTWrSaWRkCB2",
        "colab_type": "text"
      },
      "source": [
        "<center>\n",
        "<h3>GeoJSON: FeatureCollection  --> Feature --> Geometry --> Coordinates</h3>\n",
        "</center>"
      ]
    },
    {
      "cell_type": "markdown",
      "metadata": {
        "id": "h-Cfz5qsCiGG",
        "colab_type": "text"
      },
      "source": [
        "### **3.  Geometrias en GEE (ee.Geometry)**\n",
        "\n",
        "\n",
        "Earth Engine maneja datos vectoriales del tipo `Geometry`. La [especificacion de GeoJSON](https://geojson.org/geojson-spec.html) describe en detalle el tipo de geometrias admitidas por Earth Engine. Estas incluyen: `Point` (una lista de coordenadas en alguna proyeccion),`LineString` (una lista de puntos), `LinearRing` (un` LineString` cerrado) y `Polygon` (una lista de` LinearRings` donde el primero es un caparazon y los anillos posteriores son agujeros). Earth Engine tambien admite `MultiPoint`,` MultiLineString` y `MultiPolygon`. GeoJSON GeometryCollection tambien es compatible, aunque tiene el nombre `MultiGeometry` dentro de Earth Engine.\n",
        "\n",
        "#### **Crear un objeto ee.Geometry**\n",
        "\n",
        "Para crear una **geometria**, proporcione al constructor las listas de coordenadas adecuadas. Por ejemplo:"
      ]
    },
    {
      "cell_type": "code",
      "metadata": {
        "id": "IOWiofPeCtuw",
        "colab_type": "code",
        "colab": {}
      },
      "source": [
        "point = ee.Geometry.Point([1.5, 1.5])\n",
        "lineString = ee.Geometry.LineString([[-35, -10], [35, -10], [35, 10], [-35, 10]])\n",
        "linearRing = ee.Geometry.LinearRing([[-35, -10], [35, -10], [35, 10], [-35, 10], [-35, -10]])\n",
        "rectangle = ee.Geometry.Rectangle([-40, -20, 40, 20])\n",
        "polygon = ee.Geometry.Polygon([[[-5, 40], [65, 40], [65, 60], [-5, 60], [-5, 60]]])"
      ],
      "execution_count": 0,
      "outputs": []
    },
    {
      "cell_type": "markdown",
      "metadata": {
        "id": "VyRhIieFEDtm",
        "colab_type": "text"
      },
      "source": [
        "En los ejemplos anteriores, tenga en cuenta que la distinción entre un \"LineString\" y un \"LinearRing\" es que el \"LinearRing\" está \"cerrado\" al tener la misma coordenada al principio y al final de la lista.\n",
        "\n",
        "Para dividir una `geometria` compuesta en sus geometrias simples, use `geometry.geometries()`. Por ejemplo:"
      ]
    },
    {
      "cell_type": "code",
      "metadata": {
        "id": "8-U_uXsCECq3",
        "colab_type": "code",
        "outputId": "76c0f461-71ca-4693-a330-950aa36912da",
        "colab": {
          "base_uri": "https://localhost:8080/",
          "height": 890
        }
      },
      "source": [
        "# Crear una geometria compuesta\n",
        "multiPoint = ee.Geometry.MultiPoint([[-121.68, 39.91], [-97.38, 40.34]])\n",
        "\n",
        "# Obtenga geometrias simples\n",
        "geometries = multiPoint.geometries()\n",
        "\n",
        "# Obtenga cada geometría individual de la lista e imprímala.\n",
        "pt1 = geometries.get(0)\n",
        "pt2 = geometries.get(1)\n",
        "print('Point 1', pt1)\n",
        "print('Point 2', pt2)"
      ],
      "execution_count": 0,
      "outputs": [
        {
          "output_type": "stream",
          "text": [
            "Point 1 ee.ComputedObject({\n",
            "  \"type\": \"Invocation\",\n",
            "  \"arguments\": {\n",
            "    \"list\": {\n",
            "      \"type\": \"Invocation\",\n",
            "      \"arguments\": {\n",
            "        \"geometry\": {\n",
            "          \"type\": \"MultiPoint\",\n",
            "          \"coordinates\": [\n",
            "            [\n",
            "              -121.68,\n",
            "              39.91\n",
            "            ],\n",
            "            [\n",
            "              -97.38,\n",
            "              40.34\n",
            "            ]\n",
            "          ]\n",
            "        }\n",
            "      },\n",
            "      \"functionName\": \"Geometry.geometries\"\n",
            "    },\n",
            "    \"index\": 0\n",
            "  },\n",
            "  \"functionName\": \"List.get\"\n",
            "})\n",
            "Point 2 ee.ComputedObject({\n",
            "  \"type\": \"Invocation\",\n",
            "  \"arguments\": {\n",
            "    \"list\": {\n",
            "      \"type\": \"Invocation\",\n",
            "      \"arguments\": {\n",
            "        \"geometry\": {\n",
            "          \"type\": \"MultiPoint\",\n",
            "          \"coordinates\": [\n",
            "            [\n",
            "              -121.68,\n",
            "              39.91\n",
            "            ],\n",
            "            [\n",
            "              -97.38,\n",
            "              40.34\n",
            "            ]\n",
            "          ]\n",
            "        }\n",
            "      },\n",
            "      \"functionName\": \"Geometry.geometries\"\n",
            "    },\n",
            "    \"index\": 1\n",
            "  },\n",
            "  \"functionName\": \"List.get\"\n",
            "})\n"
          ],
          "name": "stdout"
        }
      ]
    },
    {
      "cell_type": "markdown",
      "metadata": {
        "id": "EkuuGnYaFwHu",
        "colab_type": "text"
      },
      "source": [
        "### **4. Operaciones geometricas**\n",
        "\n",
        "Earth Engine admite una amplia variedad de operaciones en objetos `Geometry`. Estos incluyen operaciones en geometrias individuales, como calcular un búfer, centroide, cuadro delimitador, perimetro, casco convexo, etc. Por ejemplo:"
      ]
    },
    {
      "cell_type": "code",
      "metadata": {
        "id": "_ZsHj9RCGEs3",
        "colab_type": "code",
        "outputId": "949e249f-528c-40ac-9dae-a8adf1f34892",
        "colab": {
          "base_uri": "https://localhost:8080/",
          "height": 858
        }
      },
      "source": [
        "# Crear un poligono\n",
        "polygon = ee.Geometry.Polygon(coords = [[[-5, 40], [65, 40], [65, 60], [-5, 60], [-5, 60]]])\n",
        "\n",
        "# Obtener buffer\n",
        "buffer = polygon.buffer(1000000).getInfo()\n",
        "\n",
        "# Obtener el centroide del poligono\n",
        "centroid = polygon.centroid().getInfo()\n",
        "\n",
        "#Generar mapa!\n",
        "mapdisplay(center=centroid['coordinates'],dicc={'buffer':buffer, 'centroid':centroid}, zoom_start=3)"
      ],
      "execution_count": 0,
      "outputs": [
        {
          "output_type": "execute_result",
          "data": {
            "text/html": [
              "<div style=\"width:100%;\"><div style=\"position:relative;width:100%;height:0;padding-bottom:60%;\"><iframe src=\"data:text/html;charset=utf-8;base64,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\" style=\"position:absolute;width:100%;height:100%;left:0;top:0;border:none !important;\" allowfullscreen webkitallowfullscreen mozallowfullscreen></iframe></div></div>"
            ],
            "text/plain": [
              "<folium.folium.Map at 0x7f7384f5ef60>"
            ]
          },
          "metadata": {
            "tags": []
          },
          "execution_count": 12
        }
      ]
    },
    {
      "cell_type": "markdown",
      "metadata": {
        "id": "Jne5FJZTIePW",
        "colab_type": "text"
      },
      "source": [
        "### **5. Feature en GEE (ee.Feature)**\n",
        "Un `Feature` en Earth Engine se define identicamente que un `Feature` de GeoJSON. Específicamente, un `Feature` es un objeto que almacena un objeto `geometria` (o nulo) y `propiedades` almacenadas en un diccionario.\n",
        "\n",
        "\n",
        "#### **Creacion de objetos Features**\n",
        "\n",
        "Para crear un `Feature`, proporcione una `geometria` y (opcionalmente) un diccionario de propiedades. Por ejemplo:"
      ]
    },
    {
      "cell_type": "code",
      "metadata": {
        "id": "CVlWqynGInGr",
        "colab_type": "code",
        "colab": {}
      },
      "source": [
        "# Crear un ee.Gometry.Polygon\n",
        "polygon = ee.Geometry.Polygon([[[-35, -10], [35, -10], [35, 10], [-35, 10], [-35, -10]]])\n",
        "\n",
        "# Crear un Feature a partir de la geometria\n",
        "polyFeature = ee.Feature(polygon, {'foo': 42, 'bar': 'tart','roi':'Sudamerica'})"
      ],
      "execution_count": 0,
      "outputs": []
    },
    {
      "cell_type": "markdown",
      "metadata": {
        "id": "BJsuxo5kP944",
        "colab_type": "text"
      },
      "source": [
        "Un `Feature` no necesita tener una geometria y puede simplemente envolver un diccionario de propiedades. Por ejemplo:"
      ]
    },
    {
      "cell_type": "code",
      "metadata": {
        "id": "ucudwzM4QDTs",
        "colab_type": "code",
        "colab": {}
      },
      "source": [
        "# Crear un diccionario de propiedades.\n",
        "dict_01 = {'foo': ee.Number(8).add(88), 'bar': 'nihao'}\n",
        "nowhereFeature = ee.Feature(None, dict_01)"
      ],
      "execution_count": 0,
      "outputs": []
    },
    {
      "cell_type": "markdown",
      "metadata": {
        "id": "DyhXCcUDQRs-",
        "colab_type": "text"
      },
      "source": [
        "Agrega nuevas propriedades usando el metodo `*.set`."
      ]
    },
    {
      "cell_type": "code",
      "metadata": {
        "id": "Uekvz6fqn434",
        "colab_type": "code",
        "outputId": "5fd1eba8-cd65-4291-c876-6509cb84711d",
        "colab": {
          "base_uri": "https://localhost:8080/",
          "height": 34
        }
      },
      "source": [
        "feature = ee.Feature(ee.Geometry.Point([-122.22599, 37.17605]), {'genus':'Sequoia','species':'sempervirens'})\n",
        "feature.get('species').getInfo()"
      ],
      "execution_count": 0,
      "outputs": [
        {
          "output_type": "execute_result",
          "data": {
            "text/plain": [
              "'sempervirens'"
            ]
          },
          "metadata": {
            "tags": []
          },
          "execution_count": 23
        }
      ]
    },
    {
      "cell_type": "code",
      "metadata": {
        "id": "YoHpv5XcQ_sg",
        "colab_type": "code",
        "outputId": "e324afd5-9930-4503-e150-2a60816de4a6",
        "colab": {
          "base_uri": "https://localhost:8080/",
          "height": 118
        }
      },
      "source": [
        "from pprint import pprint\n",
        "\n",
        "# Agrega propiedades usando el metodo set\n",
        "feature = ee.Feature(ee.Geometry.Point([-122.22599, 37.17605]))\\\n",
        "            .set('genus', 'Sequoia').set('species', 'sempervirens')\n",
        "feature.getInfo()\n",
        "# Obtenga una propiedad de la caracteristica\n",
        "species = feature.get('species')\n",
        "print(species.getInfo())\n",
        "\n",
        "# Establecer una nueva propiedad\n",
        "feature = feature.set('presence', 1)\n",
        "\n",
        "# Sobrescribir las propiedades antiguas con un nuevo diccionario\n",
        "newDict = {'genus': 'Brachyramphus', 'species': 'marmoratus'}\n",
        "feature = feature.set(newDict)\n",
        "\n",
        "# Comprueba el resultado.\n",
        "pprint(feature.getInfo())"
      ],
      "execution_count": 0,
      "outputs": [
        {
          "output_type": "stream",
          "text": [
            "sempervirens\n",
            "{'geometry': {'coordinates': [-122.22599, 37.17605], 'type': 'Point'},\n",
            " 'properties': {'genus': 'Brachyramphus',\n",
            "                'presence': 1,\n",
            "                'species': 'marmoratus'},\n",
            " 'type': 'Feature'}\n"
          ],
          "name": "stdout"
        }
      ]
    },
    {
      "cell_type": "markdown",
      "metadata": {
        "id": "JbaJon37Rq2V",
        "colab_type": "text"
      },
      "source": [
        "### **5. FeatureCollection en GEE (ee.FeatureCollection)**\n",
        "\n",
        "Grupos de `Features` relacionados se pueden combinar en un `FeatureCollection`, para permitir operaciones adicionales en todo el conjunto de datos, como el filtrado, la clasificacion y el renderizado. Ademas de los `Features` (geometrias + propiedades), los `FeatureCollection` tambien pueden contener otras colecciones.\n",
        "\n",
        "#### **Creacion de objetos FeatureCollection**\n",
        " \n",
        "Una forma de crear una `FeatureCollection` es proporcionar al constructor una lista de `Features`. Los `Features` no necesitan tener el mismo tipo de geometria o las mismas propiedades. Por ejemplo:"
      ]
    },
    {
      "cell_type": "code",
      "metadata": {
        "id": "aTMZVcEjRxJR",
        "colab_type": "code",
        "outputId": "0fab5ab3-dc4c-417a-86b3-8b55a3008f4e",
        "colab": {
          "base_uri": "https://localhost:8080/",
          "height": 336
        }
      },
      "source": [
        "# Haga una lista de features.\n",
        "features = [\n",
        "  ee.Feature(ee.Geometry.Rectangle(30.01, 59.80, 30.59, 60.15), {'name': 'Voronoi'}),\n",
        "  ee.Feature(ee.Geometry.Point(-73.96, 40.781), {'name': 'Thiessen'}),\n",
        "  ee.Feature(ee.Geometry.Point(6.4806, 50.8012), {'name': 'Dirichlet'})\n",
        "]\n",
        "\n",
        "# Cree un ee.FeatureCollection a partir de la lista e imprimala.\n",
        "fromList = ee.FeatureCollection(features)\n",
        "fromList.getInfo()"
      ],
      "execution_count": 0,
      "outputs": [
        {
          "output_type": "execute_result",
          "data": {
            "text/plain": [
              "{'columns': {'name': 'String', 'system:index': 'String'},\n",
              " 'features': [{'geometry': {'coordinates': [[[30.01, 59.8],\n",
              "      [30.59, 59.8],\n",
              "      [30.59, 60.15],\n",
              "      [30.01, 60.15],\n",
              "      [30.01, 59.8]]],\n",
              "    'type': 'Polygon'},\n",
              "   'id': '0',\n",
              "   'properties': {'name': 'Voronoi'},\n",
              "   'type': 'Feature'},\n",
              "  {'geometry': {'coordinates': [-73.96, 40.781], 'type': 'Point'},\n",
              "   'id': '1',\n",
              "   'properties': {'name': 'Thiessen'},\n",
              "   'type': 'Feature'},\n",
              "  {'geometry': {'coordinates': [6.4806, 50.8012], 'type': 'Point'},\n",
              "   'id': '2',\n",
              "   'properties': {'name': 'Dirichlet'},\n",
              "   'type': 'Feature'}],\n",
              " 'type': 'FeatureCollection'}"
            ]
          },
          "metadata": {
            "tags": []
          },
          "execution_count": 28
        }
      ]
    },
    {
      "cell_type": "code",
      "metadata": {
        "id": "7t-DLby8o6ux",
        "colab_type": "code",
        "outputId": "8719d0d8-5b63-4e8b-f094-b6f629ca8ab9",
        "colab": {
          "base_uri": "https://localhost:8080/",
          "height": 118
        }
      },
      "source": [
        "geom_01 = ee.Geometry.Rectangle(30.01, 59.80, 30.59, 60.15)\n",
        "geom_01_fc = ee.FeatureCollection([ee.Feature(geom_01,{})])\n",
        "geom_01_fc.getInfo()"
      ],
      "execution_count": 0,
      "outputs": [
        {
          "output_type": "execute_result",
          "data": {
            "text/plain": [
              "{'coordinates': [[[30.01, 59.8],\n",
              "   [30.59, 59.8],\n",
              "   [30.59, 60.15],\n",
              "   [30.01, 60.15],\n",
              "   [30.01, 59.8]]],\n",
              " 'type': 'Polygon'}"
            ]
          },
          "metadata": {
            "tags": []
          },
          "execution_count": 36
        }
      ]
    },
    {
      "cell_type": "markdown",
      "metadata": {
        "id": "R4-F0v0vU3Bb",
        "colab_type": "text"
      },
      "source": [
        "### **6. Map sobre un FeatureCollection**\n",
        "\n",
        "Para aplicar la misma operación a cada `Feature` en una` FeatureCollection`, use `featureCollection.map ()`. Por ejemplo, para agregar otro atributo de área a cada entidad en una `FeatureCollection` de cuencas,use:"
      ]
    },
    {
      "cell_type": "code",
      "metadata": {
        "id": "IJbLLTj6TYYS",
        "colab_type": "code",
        "outputId": "4b843ee3-0d8d-446a-f36b-49b53dac7815",
        "colab": {
          "base_uri": "https://localhost:8080/",
          "height": 1000
        }
      },
      "source": [
        "from pprint import pprint\n",
        "\n",
        "# Cargar los datos de cuencas\n",
        "sheds = ee.FeatureCollection('USGS/WBD/2017/HUC06').limit(10)\n",
        "\n",
        "# Esta funcion calcula el area de geometria de la entidad y la agrega como una propiedad.\n",
        "def addArea(feature):\n",
        "  return feature.set({'areaHa': feature.geometry().area().divide(100 * 100)})\n",
        "\n",
        "# Map! para obtener la nueva propiedad 'areaHa'\n",
        "areaAdded = sheds.map(addArea)\n",
        "centroid = sheds.geometry().centroid().coordinates().getInfo()\n",
        "\n",
        "print('Primer feature: \\n')\n",
        "pprint(sheds.first().toDictionary().getInfo())\n",
        "\n",
        "print('Primer feature: \\n')\n",
        "pprint(areaAdded.first().toDictionary().getInfo())\n",
        "\n",
        "mapdisplay(center=centroid,\n",
        "           dicc={'cuencas':sheds.draw(color = \"FF0000\").getMapId()},\n",
        "           zoom_start=5)"
      ],
      "execution_count": 0,
      "outputs": [
        {
          "output_type": "stream",
          "text": [
            "Primer feature: \n",
            "\n",
            "{'areaacres': '17935746.85',\n",
            " 'areasqkm': '72583.46',\n",
            " 'gnis_id': '',\n",
            " 'huc6': '190301',\n",
            " 'loaddate': '20120611075458',\n",
            " 'metasource': '',\n",
            " 'name': 'Aleutian Islands',\n",
            " 'shape_area': '9.9308571861444',\n",
            " 'shape_leng': '81.5083456556245',\n",
            " 'sourcedata': '',\n",
            " 'sourcefeat': '',\n",
            " 'sourceorig': '',\n",
            " 'states': 'AK',\n",
            " 'tnmid': '{7D8E9EC1-6A0D-4FED-8063-94688560AC75}'}\n",
            "Primer feature: \n",
            "\n",
            "{'areaHa': 7227400.935025958,\n",
            " 'areaacres': '17935746.85',\n",
            " 'areasqkm': '72583.46',\n",
            " 'gnis_id': '',\n",
            " 'huc6': '190301',\n",
            " 'loaddate': '20120611075458',\n",
            " 'metasource': '',\n",
            " 'name': 'Aleutian Islands',\n",
            " 'shape_area': '9.9308571861444',\n",
            " 'shape_leng': '81.5083456556245',\n",
            " 'sourcedata': '',\n",
            " 'sourcefeat': '',\n",
            " 'sourceorig': '',\n",
            " 'states': 'AK',\n",
            " 'tnmid': '{7D8E9EC1-6A0D-4FED-8063-94688560AC75}'}\n"
          ],
          "name": "stdout"
        },
        {
          "output_type": "execute_result",
          "data": {
            "text/html": [
              "<div style=\"width:100%;\"><div style=\"position:relative;width:100%;height:0;padding-bottom:60%;\"><iframe src=\"data:text/html;charset=utf-8;base64,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\" style=\"position:absolute;width:100%;height:100%;left:0;top:0;border:none !important;\" allowfullscreen webkitallowfullscreen mozallowfullscreen></iframe></div></div>"
            ],
            "text/plain": [
              "<folium.folium.Map at 0x7f738434dd30>"
            ]
          },
          "metadata": {
            "tags": []
          },
          "execution_count": 39
        }
      ]
    },
    {
      "cell_type": "markdown",
      "metadata": {
        "id": "S1fiWv2tbo0v",
        "colab_type": "text"
      },
      "source": [
        "### **7. Muestras aleatorias**\n",
        "\n",
        "Para obtener una coleccion de puntos aleatorios en una region especifica puede usar:"
      ]
    },
    {
      "cell_type": "code",
      "metadata": {
        "id": "7z-HxjNBatrw",
        "colab_type": "code",
        "colab": {}
      },
      "source": [
        "# Defina una region arbitraria en la que calcular puntos aleatorios.\n",
        "region = ee.Geometry.Rectangle(-119.224, 34.669, -99.536, 50.064)\n",
        "center_coord = region.centroid().coordinates().getInfo()\n",
        "\n",
        "# Crea 1000 puntos aleatorios en la region.\n",
        "randomPoints = ee.FeatureCollection.randomPoints(region=region,points=5000)\n",
        "\n",
        "# Mostrar los puntos.\n",
        "mapdisplay(center_coord,{'randomPoints':randomPoints.getInfo()},zoom_start=5)"
      ],
      "execution_count": 0,
      "outputs": []
    }
  ]
}