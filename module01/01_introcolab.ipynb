{
  "nbformat": 4,
  "nbformat_minor": 0,
  "metadata": {
    "colab": {
      "name": "Intro_colab.ipynb",
      "provenance": [],
      "collapsed_sections": []
    },
    "kernelspec": {
      "name": "python3",
      "display_name": "Python 3"
    }
  },
  "cells": [
    {
      "cell_type": "markdown",
      "metadata": {
        "id": "lvLrYiLvGEDz",
        "colab_type": "text"
      },
      "source": [
        "# **MASTERGIS: Explorando Colab**"
      ]
    },
    {
      "cell_type": "markdown",
      "metadata": {
        "id": "qtNdvo1WG_Hg",
        "colab_type": "text"
      },
      "source": [
        "###  **Explora colab por tu cuenta!**\n",
        "Nota que para que puedas comunicarte con la consola de linux siempre debes pone `!` antes del código."
      ]
    },
    {
      "cell_type": "code",
      "metadata": {
        "id": "89a2t0-XHNJi",
        "colab_type": "code",
        "colab": {
          "base_uri": "https://localhost:8080/",
          "height": 289
        },
        "outputId": "d5c861f9-e312-4318-bef5-f63cbae4d84d"
      },
      "source": [
        "#¿Qué sistema operativo es?\n",
        "!cat /etc/*release"
      ],
      "execution_count": 1,
      "outputs": [
        {
          "output_type": "stream",
          "text": [
            "DISTRIB_ID=Ubuntu\n",
            "DISTRIB_RELEASE=18.04\n",
            "DISTRIB_CODENAME=bionic\n",
            "DISTRIB_DESCRIPTION=\"Ubuntu 18.04.3 LTS\"\n",
            "NAME=\"Ubuntu\"\n",
            "VERSION=\"18.04.3 LTS (Bionic Beaver)\"\n",
            "ID=ubuntu\n",
            "ID_LIKE=debian\n",
            "PRETTY_NAME=\"Ubuntu 18.04.3 LTS\"\n",
            "VERSION_ID=\"18.04\"\n",
            "HOME_URL=\"https://www.ubuntu.com/\"\n",
            "SUPPORT_URL=\"https://help.ubuntu.com/\"\n",
            "BUG_REPORT_URL=\"https://bugs.launchpad.net/ubuntu/\"\n",
            "PRIVACY_POLICY_URL=\"https://www.ubuntu.com/legal/terms-and-policies/privacy-policy\"\n",
            "VERSION_CODENAME=bionic\n",
            "UBUNTU_CODENAME=bionic\n"
          ],
          "name": "stdout"
        }
      ]
    },
    {
      "cell_type": "code",
      "metadata": {
        "id": "BMqoRrWKHTRD",
        "colab_type": "code",
        "colab": {
          "base_uri": "https://localhost:8080/",
          "height": 445
        },
        "outputId": "b4c53885-840b-4eb0-901e-8de60af2c77e"
      },
      "source": [
        "#Cuantas CPU existen?\n",
        "!lscpu"
      ],
      "execution_count": 2,
      "outputs": [
        {
          "output_type": "stream",
          "text": [
            "Architecture:        x86_64\n",
            "CPU op-mode(s):      32-bit, 64-bit\n",
            "Byte Order:          Little Endian\n",
            "CPU(s):              2\n",
            "On-line CPU(s) list: 0,1\n",
            "Thread(s) per core:  2\n",
            "Core(s) per socket:  1\n",
            "Socket(s):           1\n",
            "NUMA node(s):        1\n",
            "Vendor ID:           GenuineIntel\n",
            "CPU family:          6\n",
            "Model:               63\n",
            "Model name:          Intel(R) Xeon(R) CPU @ 2.30GHz\n",
            "Stepping:            0\n",
            "CPU MHz:             2300.000\n",
            "BogoMIPS:            4600.00\n",
            "Hypervisor vendor:   KVM\n",
            "Virtualization type: full\n",
            "L1d cache:           32K\n",
            "L1i cache:           32K\n",
            "L2 cache:            256K\n",
            "L3 cache:            46080K\n",
            "NUMA node0 CPU(s):   0,1\n",
            "Flags:               fpu vme de pse tsc msr pae mce cx8 apic sep mtrr pge mca cmov pat pse36 clflush mmx fxsr sse sse2 ss ht syscall nx pdpe1gb rdtscp lm constant_tsc rep_good nopl xtopology nonstop_tsc cpuid tsc_known_freq pni pclmulqdq ssse3 fma cx16 pcid sse4_1 sse4_2 x2apic movbe popcnt aes xsave avx f16c rdrand hypervisor lahf_lm abm invpcid_single ssbd ibrs ibpb stibp fsgsbase tsc_adjust bmi1 avx2 smep bmi2 erms invpcid xsaveopt arat md_clear arch_capabilities\n"
          ],
          "name": "stdout"
        }
      ]
    },
    {
      "cell_type": "code",
      "metadata": {
        "id": "JSX8YRs1HcUx",
        "colab_type": "code",
        "colab": {
          "base_uri": "https://localhost:8080/",
          "height": 34
        },
        "outputId": "4362369e-47d3-40a6-8804-1a6d176d4a80"
      },
      "source": [
        "# ¿Cuanta RAM tengo?\n",
        "!grep MemTotal /proc/meminfo"
      ],
      "execution_count": 3,
      "outputs": [
        {
          "output_type": "stream",
          "text": [
            "MemTotal:       13335188 kB\n"
          ],
          "name": "stdout"
        }
      ]
    },
    {
      "cell_type": "code",
      "metadata": {
        "id": "gBwpbDQqHkuX",
        "colab_type": "code",
        "colab": {}
      },
      "source": [
        "# ¿Que paquetes de Python están instalados?\n",
        "!pip3 freeze"
      ],
      "execution_count": 0,
      "outputs": []
    },
    {
      "cell_type": "markdown",
      "metadata": {
        "id": "fEbWd-q7GzWi",
        "colab_type": "text"
      },
      "source": [
        "### **Montar Google Drive en Colab**"
      ]
    },
    {
      "cell_type": "code",
      "metadata": {
        "id": "5YONxlO3n6jv",
        "colab_type": "code",
        "colab": {}
      },
      "source": [
        "from google.colab import drive\n",
        "drive.mount('/content/gdrive')"
      ],
      "execution_count": 0,
      "outputs": []
    },
    {
      "cell_type": "markdown",
      "metadata": {
        "id": "CxgrqfSGG44B",
        "colab_type": "text"
      },
      "source": [
        "### **Comandos basicos de Linux**"
      ]
    },
    {
      "cell_type": "code",
      "metadata": {
        "id": "R2kHlo-Tn82f",
        "colab_type": "code",
        "colab": {}
      },
      "source": [
        "# ver ubicación\n",
        "!pwd\n",
        "\n",
        "# listar contenido\n",
        "!ls \n",
        "\n",
        "# Cambiar ruta\n",
        "!cd /content/\n",
        "\n",
        "# Ver el inicio del archivo\n",
        "!head sample_data/california_housing_test.csv\n",
        "\n",
        "# Copiar un archivo\n",
        "!cp sample_data/california_housing_test.csv My\\ Drive/california_housing_test.csv"
      ],
      "execution_count": 0,
      "outputs": []
    }
  ]
}
